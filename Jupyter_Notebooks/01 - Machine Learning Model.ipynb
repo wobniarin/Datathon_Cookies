{
 "cells": [
  {
   "cell_type": "code",
   "execution_count": 1,
   "metadata": {},
   "outputs": [],
   "source": [
    "# Importing basic libraries\n",
    "import pandas as pd\n",
    "import numpy as np\n",
    "\n",
    "# for graphing\n",
    "import matplotlib.pyplot as plt\n",
    "import seaborn as sns\n",
    "\n",
    "# regression libraries (sklearn) will be imported in the process to maintain an overview of when we need what"
   ]
  },
  {
   "cell_type": "markdown",
   "metadata": {},
   "source": [
    "## Introduction\n",
    "1. We have a target, therefore we use supervised learning. \n",
    "2. As we are seeking out a categorical value as a target (intiger and categroical scale), we cannot perform a regression analysis. We will go with a classification model\n",
    "3. We know about and feel comfortable with the following classification models: <br>\n",
    "    3.1. Decision Tree <br>\n",
    "    3.2. Logisitc Regression** <br>\n",
    "    3.3. KNN <br>\n",
    "\n",
    "\n",
    "** Logisitc Regression is only used when we have one dependent variable and one independent variables. To carry this type of model out for multiple variables, we would need to do a mulitnominal or ordinal regression, however, we are not comfortable with these, so we will not attempt them on our first go. \n",
    "\n",
    "#### Models\n",
    "we will use:\n",
    "- decision tree\n",
    "- KNN\n",
    "\n",
    "#### Metrics\n",
    "we will use:\n",
    "- confusion matrix\n",
    "- f1\n",
    "- recall\n",
    "- precision\n",
    "- accuracy\n",
    "\n",
    "#### To check our hyperparameters and their performance when fitting the model we will use a grid search (if we have time)"
   ]
  },
  {
   "cell_type": "code",
   "execution_count": 2,
   "metadata": {},
   "outputs": [],
   "source": [
    "df = pd.read_csv(\"../Data/cleaned_cookie_data.csv\", index_col=0)"
   ]
  },
  {
   "cell_type": "code",
   "execution_count": 3,
   "metadata": {},
   "outputs": [
    {
     "data": {
      "text/html": [
       "<div>\n",
       "<style scoped>\n",
       "    .dataframe tbody tr th:only-of-type {\n",
       "        vertical-align: middle;\n",
       "    }\n",
       "\n",
       "    .dataframe tbody tr th {\n",
       "        vertical-align: top;\n",
       "    }\n",
       "\n",
       "    .dataframe thead th {\n",
       "        text-align: right;\n",
       "    }\n",
       "</style>\n",
       "<table border=\"1\" class=\"dataframe\">\n",
       "  <thead>\n",
       "    <tr style=\"text-align: right;\">\n",
       "      <th></th>\n",
       "      <th>sugar to flour ratio</th>\n",
       "      <th>sugar index</th>\n",
       "      <th>bake temp</th>\n",
       "      <th>chill time</th>\n",
       "      <th>calories</th>\n",
       "      <th>pH</th>\n",
       "      <th>grams baking soda</th>\n",
       "      <th>bake time</th>\n",
       "      <th>quality</th>\n",
       "      <th>butter type</th>\n",
       "      <th>weight</th>\n",
       "      <th>mixins</th>\n",
       "      <th>crunch factor</th>\n",
       "    </tr>\n",
       "  </thead>\n",
       "  <tbody>\n",
       "    <tr>\n",
       "      <th>0</th>\n",
       "      <td>0.25</td>\n",
       "      <td>9.5</td>\n",
       "      <td>300</td>\n",
       "      <td>15.0</td>\n",
       "      <td>136.0</td>\n",
       "      <td>8.10</td>\n",
       "      <td>0.44</td>\n",
       "      <td>12.1</td>\n",
       "      <td>8</td>\n",
       "      <td>melted</td>\n",
       "      <td>15.2</td>\n",
       "      <td>raisins</td>\n",
       "      <td>1.30</td>\n",
       "    </tr>\n",
       "    <tr>\n",
       "      <th>1</th>\n",
       "      <td>0.23</td>\n",
       "      <td>3.3</td>\n",
       "      <td>520</td>\n",
       "      <td>34.0</td>\n",
       "      <td>113.0</td>\n",
       "      <td>8.16</td>\n",
       "      <td>0.48</td>\n",
       "      <td>8.4</td>\n",
       "      <td>7</td>\n",
       "      <td>melted</td>\n",
       "      <td>12.4</td>\n",
       "      <td>raisins</td>\n",
       "      <td>1.71</td>\n",
       "    </tr>\n",
       "    <tr>\n",
       "      <th>2</th>\n",
       "      <td>0.18</td>\n",
       "      <td>1.9</td>\n",
       "      <td>360</td>\n",
       "      <td>33.0</td>\n",
       "      <td>106.0</td>\n",
       "      <td>8.21</td>\n",
       "      <td>0.83</td>\n",
       "      <td>14.0</td>\n",
       "      <td>9</td>\n",
       "      <td>melted</td>\n",
       "      <td>9.4</td>\n",
       "      <td>nuts, chocolate</td>\n",
       "      <td>1.78</td>\n",
       "    </tr>\n",
       "    <tr>\n",
       "      <th>3</th>\n",
       "      <td>0.18</td>\n",
       "      <td>10.5</td>\n",
       "      <td>490</td>\n",
       "      <td>41.0</td>\n",
       "      <td>124.0</td>\n",
       "      <td>8.14</td>\n",
       "      <td>0.35</td>\n",
       "      <td>10.5</td>\n",
       "      <td>7</td>\n",
       "      <td>melted</td>\n",
       "      <td>12.2</td>\n",
       "      <td>chocolate</td>\n",
       "      <td>1.59</td>\n",
       "    </tr>\n",
       "    <tr>\n",
       "      <th>4</th>\n",
       "      <td>0.24</td>\n",
       "      <td>2.4</td>\n",
       "      <td>770</td>\n",
       "      <td>6.0</td>\n",
       "      <td>33.0</td>\n",
       "      <td>8.09</td>\n",
       "      <td>0.57</td>\n",
       "      <td>9.4</td>\n",
       "      <td>5</td>\n",
       "      <td>cubed</td>\n",
       "      <td>19.8</td>\n",
       "      <td>nuts, oats, chocolate</td>\n",
       "      <td>1.30</td>\n",
       "    </tr>\n",
       "  </tbody>\n",
       "</table>\n",
       "</div>"
      ],
      "text/plain": [
       "   sugar to flour ratio  sugar index  bake temp  chill time  calories    pH  \\\n",
       "0                  0.25          9.5        300        15.0     136.0  8.10   \n",
       "1                  0.23          3.3        520        34.0     113.0  8.16   \n",
       "2                  0.18          1.9        360        33.0     106.0  8.21   \n",
       "3                  0.18         10.5        490        41.0     124.0  8.14   \n",
       "4                  0.24          2.4        770         6.0      33.0  8.09   \n",
       "\n",
       "   grams baking soda  bake time  quality butter type  weight  \\\n",
       "0               0.44       12.1        8      melted    15.2   \n",
       "1               0.48        8.4        7      melted    12.4   \n",
       "2               0.83       14.0        9      melted     9.4   \n",
       "3               0.35       10.5        7      melted    12.2   \n",
       "4               0.57        9.4        5       cubed    19.8   \n",
       "\n",
       "                  mixins  crunch factor  \n",
       "0                raisins           1.30  \n",
       "1                raisins           1.71  \n",
       "2        nuts, chocolate           1.78  \n",
       "3              chocolate           1.59  \n",
       "4  nuts, oats, chocolate           1.30  "
      ]
     },
     "execution_count": 3,
     "metadata": {},
     "output_type": "execute_result"
    }
   ],
   "source": [
    "df.head()"
   ]
  },
  {
   "cell_type": "markdown",
   "metadata": {},
   "source": [
    "## Pre-processing\n",
    "For preprocessing we will do the following:\n",
    "- encoding categorical variables\n",
    "- define X and y\n",
    "- split into train and test (we chose a 80:20 ratio)"
   ]
  },
  {
   "cell_type": "markdown",
   "metadata": {},
   "source": [
    "##### Encoding, dummy variables for mixins"
   ]
  },
  {
   "cell_type": "code",
   "execution_count": 4,
   "metadata": {},
   "outputs": [
    {
     "data": {
      "text/plain": [
       "Index(['chocolate', 'raisins', 'chocolate, oats', 'nuts, chocolate',\n",
       "       'nuts,raisins', 'nuts, oats, chocolate', 'nuts, oats',\n",
       "       'chocolate, peanut butter', 'raisins, oats', 'peanut butter', 'oats',\n",
       "       'No mixins', 'chocolate, oats, peanut butter'],\n",
       "      dtype='object')"
      ]
     },
     "execution_count": 4,
     "metadata": {},
     "output_type": "execute_result"
    }
   ],
   "source": [
    "df[\"mixins\"].value_counts().index"
   ]
  },
  {
   "cell_type": "code",
   "execution_count": 5,
   "metadata": {},
   "outputs": [],
   "source": [
    "# create dummy variables\n",
    "mixes = ['raisins', 'chocolate', 'oats', 'nuts', 'peanut butter', 'No mixins']\n",
    "\n",
    "# Your code here\n",
    "for i in mixes:\n",
    "    df[i]=0"
   ]
  },
  {
   "cell_type": "code",
   "execution_count": 6,
   "metadata": {},
   "outputs": [],
   "source": [
    "# fill dummy\n",
    "for mix in mixes:\n",
    "    \n",
    "    df[mix] = df.mixins.str.contains(mix, regex=False).astype(int)"
   ]
  },
  {
   "cell_type": "code",
   "execution_count": 7,
   "metadata": {},
   "outputs": [
    {
     "data": {
      "text/html": [
       "<div>\n",
       "<style scoped>\n",
       "    .dataframe tbody tr th:only-of-type {\n",
       "        vertical-align: middle;\n",
       "    }\n",
       "\n",
       "    .dataframe tbody tr th {\n",
       "        vertical-align: top;\n",
       "    }\n",
       "\n",
       "    .dataframe thead th {\n",
       "        text-align: right;\n",
       "    }\n",
       "</style>\n",
       "<table border=\"1\" class=\"dataframe\">\n",
       "  <thead>\n",
       "    <tr style=\"text-align: right;\">\n",
       "      <th></th>\n",
       "      <th>sugar to flour ratio</th>\n",
       "      <th>sugar index</th>\n",
       "      <th>bake temp</th>\n",
       "      <th>chill time</th>\n",
       "      <th>calories</th>\n",
       "      <th>pH</th>\n",
       "      <th>grams baking soda</th>\n",
       "      <th>bake time</th>\n",
       "      <th>quality</th>\n",
       "      <th>butter type</th>\n",
       "      <th>weight</th>\n",
       "      <th>mixins</th>\n",
       "      <th>crunch factor</th>\n",
       "      <th>raisins</th>\n",
       "      <th>chocolate</th>\n",
       "      <th>oats</th>\n",
       "      <th>nuts</th>\n",
       "      <th>peanut butter</th>\n",
       "      <th>No mixins</th>\n",
       "    </tr>\n",
       "  </thead>\n",
       "  <tbody>\n",
       "    <tr>\n",
       "      <th>0</th>\n",
       "      <td>0.25</td>\n",
       "      <td>9.5</td>\n",
       "      <td>300</td>\n",
       "      <td>15.0</td>\n",
       "      <td>136.0</td>\n",
       "      <td>8.10</td>\n",
       "      <td>0.44</td>\n",
       "      <td>12.1</td>\n",
       "      <td>8</td>\n",
       "      <td>melted</td>\n",
       "      <td>15.2</td>\n",
       "      <td>raisins</td>\n",
       "      <td>1.30</td>\n",
       "      <td>1</td>\n",
       "      <td>0</td>\n",
       "      <td>0</td>\n",
       "      <td>0</td>\n",
       "      <td>0</td>\n",
       "      <td>0</td>\n",
       "    </tr>\n",
       "    <tr>\n",
       "      <th>1</th>\n",
       "      <td>0.23</td>\n",
       "      <td>3.3</td>\n",
       "      <td>520</td>\n",
       "      <td>34.0</td>\n",
       "      <td>113.0</td>\n",
       "      <td>8.16</td>\n",
       "      <td>0.48</td>\n",
       "      <td>8.4</td>\n",
       "      <td>7</td>\n",
       "      <td>melted</td>\n",
       "      <td>12.4</td>\n",
       "      <td>raisins</td>\n",
       "      <td>1.71</td>\n",
       "      <td>1</td>\n",
       "      <td>0</td>\n",
       "      <td>0</td>\n",
       "      <td>0</td>\n",
       "      <td>0</td>\n",
       "      <td>0</td>\n",
       "    </tr>\n",
       "    <tr>\n",
       "      <th>2</th>\n",
       "      <td>0.18</td>\n",
       "      <td>1.9</td>\n",
       "      <td>360</td>\n",
       "      <td>33.0</td>\n",
       "      <td>106.0</td>\n",
       "      <td>8.21</td>\n",
       "      <td>0.83</td>\n",
       "      <td>14.0</td>\n",
       "      <td>9</td>\n",
       "      <td>melted</td>\n",
       "      <td>9.4</td>\n",
       "      <td>nuts, chocolate</td>\n",
       "      <td>1.78</td>\n",
       "      <td>0</td>\n",
       "      <td>1</td>\n",
       "      <td>0</td>\n",
       "      <td>1</td>\n",
       "      <td>0</td>\n",
       "      <td>0</td>\n",
       "    </tr>\n",
       "    <tr>\n",
       "      <th>3</th>\n",
       "      <td>0.18</td>\n",
       "      <td>10.5</td>\n",
       "      <td>490</td>\n",
       "      <td>41.0</td>\n",
       "      <td>124.0</td>\n",
       "      <td>8.14</td>\n",
       "      <td>0.35</td>\n",
       "      <td>10.5</td>\n",
       "      <td>7</td>\n",
       "      <td>melted</td>\n",
       "      <td>12.2</td>\n",
       "      <td>chocolate</td>\n",
       "      <td>1.59</td>\n",
       "      <td>0</td>\n",
       "      <td>1</td>\n",
       "      <td>0</td>\n",
       "      <td>0</td>\n",
       "      <td>0</td>\n",
       "      <td>0</td>\n",
       "    </tr>\n",
       "    <tr>\n",
       "      <th>4</th>\n",
       "      <td>0.24</td>\n",
       "      <td>2.4</td>\n",
       "      <td>770</td>\n",
       "      <td>6.0</td>\n",
       "      <td>33.0</td>\n",
       "      <td>8.09</td>\n",
       "      <td>0.57</td>\n",
       "      <td>9.4</td>\n",
       "      <td>5</td>\n",
       "      <td>cubed</td>\n",
       "      <td>19.8</td>\n",
       "      <td>nuts, oats, chocolate</td>\n",
       "      <td>1.30</td>\n",
       "      <td>0</td>\n",
       "      <td>1</td>\n",
       "      <td>1</td>\n",
       "      <td>1</td>\n",
       "      <td>0</td>\n",
       "      <td>0</td>\n",
       "    </tr>\n",
       "  </tbody>\n",
       "</table>\n",
       "</div>"
      ],
      "text/plain": [
       "   sugar to flour ratio  sugar index  bake temp  chill time  calories    pH  \\\n",
       "0                  0.25          9.5        300        15.0     136.0  8.10   \n",
       "1                  0.23          3.3        520        34.0     113.0  8.16   \n",
       "2                  0.18          1.9        360        33.0     106.0  8.21   \n",
       "3                  0.18         10.5        490        41.0     124.0  8.14   \n",
       "4                  0.24          2.4        770         6.0      33.0  8.09   \n",
       "\n",
       "   grams baking soda  bake time  quality butter type  weight  \\\n",
       "0               0.44       12.1        8      melted    15.2   \n",
       "1               0.48        8.4        7      melted    12.4   \n",
       "2               0.83       14.0        9      melted     9.4   \n",
       "3               0.35       10.5        7      melted    12.2   \n",
       "4               0.57        9.4        5       cubed    19.8   \n",
       "\n",
       "                  mixins  crunch factor  raisins  chocolate  oats  nuts  \\\n",
       "0                raisins           1.30        1          0     0     0   \n",
       "1                raisins           1.71        1          0     0     0   \n",
       "2        nuts, chocolate           1.78        0          1     0     1   \n",
       "3              chocolate           1.59        0          1     0     0   \n",
       "4  nuts, oats, chocolate           1.30        0          1     1     1   \n",
       "\n",
       "   peanut butter  No mixins  \n",
       "0              0          0  \n",
       "1              0          0  \n",
       "2              0          0  \n",
       "3              0          0  \n",
       "4              0          0  "
      ]
     },
     "execution_count": 7,
     "metadata": {},
     "output_type": "execute_result"
    }
   ],
   "source": [
    "df.head()"
   ]
  },
  {
   "cell_type": "code",
   "execution_count": 8,
   "metadata": {},
   "outputs": [],
   "source": [
    "# drop mixins\n",
    "df.drop(\"mixins\", axis=1, inplace=True)"
   ]
  },
  {
   "cell_type": "markdown",
   "metadata": {},
   "source": [
    "##### Encoding, dummy variables for butter"
   ]
  },
  {
   "cell_type": "code",
   "execution_count": 9,
   "metadata": {},
   "outputs": [],
   "source": [
    "# we only have two types of butter\n",
    "# we can just replace the values with [1,0] for [melted, cubed] using a repalce funciton\n",
    "df[\"butter type\"] = np.where(df[\"butter type\"] == \"melted\", 1, 0)"
   ]
  },
  {
   "cell_type": "code",
   "execution_count": 10,
   "metadata": {},
   "outputs": [
    {
     "data": {
      "text/html": [
       "<div>\n",
       "<style scoped>\n",
       "    .dataframe tbody tr th:only-of-type {\n",
       "        vertical-align: middle;\n",
       "    }\n",
       "\n",
       "    .dataframe tbody tr th {\n",
       "        vertical-align: top;\n",
       "    }\n",
       "\n",
       "    .dataframe thead th {\n",
       "        text-align: right;\n",
       "    }\n",
       "</style>\n",
       "<table border=\"1\" class=\"dataframe\">\n",
       "  <thead>\n",
       "    <tr style=\"text-align: right;\">\n",
       "      <th></th>\n",
       "      <th>sugar to flour ratio</th>\n",
       "      <th>sugar index</th>\n",
       "      <th>bake temp</th>\n",
       "      <th>chill time</th>\n",
       "      <th>calories</th>\n",
       "      <th>pH</th>\n",
       "      <th>grams baking soda</th>\n",
       "      <th>bake time</th>\n",
       "      <th>quality</th>\n",
       "      <th>butter type</th>\n",
       "      <th>weight</th>\n",
       "      <th>crunch factor</th>\n",
       "      <th>raisins</th>\n",
       "      <th>chocolate</th>\n",
       "      <th>oats</th>\n",
       "      <th>nuts</th>\n",
       "      <th>peanut butter</th>\n",
       "      <th>No mixins</th>\n",
       "    </tr>\n",
       "  </thead>\n",
       "  <tbody>\n",
       "    <tr>\n",
       "      <th>0</th>\n",
       "      <td>0.25</td>\n",
       "      <td>9.5</td>\n",
       "      <td>300</td>\n",
       "      <td>15.0</td>\n",
       "      <td>136.0</td>\n",
       "      <td>8.10</td>\n",
       "      <td>0.44</td>\n",
       "      <td>12.1</td>\n",
       "      <td>8</td>\n",
       "      <td>1</td>\n",
       "      <td>15.2</td>\n",
       "      <td>1.30</td>\n",
       "      <td>1</td>\n",
       "      <td>0</td>\n",
       "      <td>0</td>\n",
       "      <td>0</td>\n",
       "      <td>0</td>\n",
       "      <td>0</td>\n",
       "    </tr>\n",
       "    <tr>\n",
       "      <th>1</th>\n",
       "      <td>0.23</td>\n",
       "      <td>3.3</td>\n",
       "      <td>520</td>\n",
       "      <td>34.0</td>\n",
       "      <td>113.0</td>\n",
       "      <td>8.16</td>\n",
       "      <td>0.48</td>\n",
       "      <td>8.4</td>\n",
       "      <td>7</td>\n",
       "      <td>1</td>\n",
       "      <td>12.4</td>\n",
       "      <td>1.71</td>\n",
       "      <td>1</td>\n",
       "      <td>0</td>\n",
       "      <td>0</td>\n",
       "      <td>0</td>\n",
       "      <td>0</td>\n",
       "      <td>0</td>\n",
       "    </tr>\n",
       "    <tr>\n",
       "      <th>2</th>\n",
       "      <td>0.18</td>\n",
       "      <td>1.9</td>\n",
       "      <td>360</td>\n",
       "      <td>33.0</td>\n",
       "      <td>106.0</td>\n",
       "      <td>8.21</td>\n",
       "      <td>0.83</td>\n",
       "      <td>14.0</td>\n",
       "      <td>9</td>\n",
       "      <td>1</td>\n",
       "      <td>9.4</td>\n",
       "      <td>1.78</td>\n",
       "      <td>0</td>\n",
       "      <td>1</td>\n",
       "      <td>0</td>\n",
       "      <td>1</td>\n",
       "      <td>0</td>\n",
       "      <td>0</td>\n",
       "    </tr>\n",
       "    <tr>\n",
       "      <th>3</th>\n",
       "      <td>0.18</td>\n",
       "      <td>10.5</td>\n",
       "      <td>490</td>\n",
       "      <td>41.0</td>\n",
       "      <td>124.0</td>\n",
       "      <td>8.14</td>\n",
       "      <td>0.35</td>\n",
       "      <td>10.5</td>\n",
       "      <td>7</td>\n",
       "      <td>1</td>\n",
       "      <td>12.2</td>\n",
       "      <td>1.59</td>\n",
       "      <td>0</td>\n",
       "      <td>1</td>\n",
       "      <td>0</td>\n",
       "      <td>0</td>\n",
       "      <td>0</td>\n",
       "      <td>0</td>\n",
       "    </tr>\n",
       "    <tr>\n",
       "      <th>4</th>\n",
       "      <td>0.24</td>\n",
       "      <td>2.4</td>\n",
       "      <td>770</td>\n",
       "      <td>6.0</td>\n",
       "      <td>33.0</td>\n",
       "      <td>8.09</td>\n",
       "      <td>0.57</td>\n",
       "      <td>9.4</td>\n",
       "      <td>5</td>\n",
       "      <td>0</td>\n",
       "      <td>19.8</td>\n",
       "      <td>1.30</td>\n",
       "      <td>0</td>\n",
       "      <td>1</td>\n",
       "      <td>1</td>\n",
       "      <td>1</td>\n",
       "      <td>0</td>\n",
       "      <td>0</td>\n",
       "    </tr>\n",
       "  </tbody>\n",
       "</table>\n",
       "</div>"
      ],
      "text/plain": [
       "   sugar to flour ratio  sugar index  bake temp  chill time  calories    pH  \\\n",
       "0                  0.25          9.5        300        15.0     136.0  8.10   \n",
       "1                  0.23          3.3        520        34.0     113.0  8.16   \n",
       "2                  0.18          1.9        360        33.0     106.0  8.21   \n",
       "3                  0.18         10.5        490        41.0     124.0  8.14   \n",
       "4                  0.24          2.4        770         6.0      33.0  8.09   \n",
       "\n",
       "   grams baking soda  bake time  quality  butter type  weight  crunch factor  \\\n",
       "0               0.44       12.1        8            1    15.2           1.30   \n",
       "1               0.48        8.4        7            1    12.4           1.71   \n",
       "2               0.83       14.0        9            1     9.4           1.78   \n",
       "3               0.35       10.5        7            1    12.2           1.59   \n",
       "4               0.57        9.4        5            0    19.8           1.30   \n",
       "\n",
       "   raisins  chocolate  oats  nuts  peanut butter  No mixins  \n",
       "0        1          0     0     0              0          0  \n",
       "1        1          0     0     0              0          0  \n",
       "2        0          1     0     1              0          0  \n",
       "3        0          1     0     0              0          0  \n",
       "4        0          1     1     1              0          0  "
      ]
     },
     "execution_count": 10,
     "metadata": {},
     "output_type": "execute_result"
    }
   ],
   "source": [
    "df.head()"
   ]
  },
  {
   "cell_type": "markdown",
   "metadata": {},
   "source": [
    "###### Splitting, fitting, training"
   ]
  },
  {
   "cell_type": "code",
   "execution_count": 11,
   "metadata": {},
   "outputs": [],
   "source": [
    "# Selecting data that are our features and the target variables.\n",
    "y = df[['quality']]\n",
    "X = df.drop(columns=['quality'])"
   ]
  },
  {
   "cell_type": "code",
   "execution_count": 12,
   "metadata": {},
   "outputs": [],
   "source": [
    "# Importing sklearn library for model selection to split between train and test\n",
    "from sklearn.model_selection import train_test_split\n",
    "\n",
    "# Splitting data into train and test \n",
    "X_train, X_test, y_train, y_test = train_test_split(X, y, test_size=0.20, random_state=12)"
   ]
  },
  {
   "cell_type": "code",
   "execution_count": 29,
   "metadata": {},
   "outputs": [
    {
     "data": {
      "text/plain": [
       "DecisionTreeClassifier(class_weight=None, criterion='gini', max_depth=1,\n",
       "                       max_features=None, max_leaf_nodes=None,\n",
       "                       min_impurity_decrease=0.0, min_impurity_split=None,\n",
       "                       min_samples_leaf=5, min_samples_split=2,\n",
       "                       min_weight_fraction_leaf=0.0, presort=False,\n",
       "                       random_state=None, splitter='best')"
      ]
     },
     "execution_count": 29,
     "metadata": {},
     "output_type": "execute_result"
    }
   ],
   "source": [
    "### # Decision Tree \n",
    "from sklearn.tree import DecisionTreeClassifier\n",
    "from sklearn.metrics import accuracy_score\n",
    "\n",
    "# Creating the instance of the Decision Tree with maximum depth equals to 1\n",
    "#dtree = DecisionTreeClassifier(criterion = \"gini\", random_state = 100, max_depth=1, min_samples_leaf=5)\n",
    "\n",
    "# Creating the instance of the Decision Tree with maximum depth equals to 1\n",
    "dtree = DecisionTreeClassifier(max_depth=1, min_samples_leaf=5)\n",
    "\n",
    "# Fitting the model on train set \n",
    "dtree.fit(X_train, y_train)"
   ]
  },
  {
   "cell_type": "code",
   "execution_count": 30,
   "metadata": {},
   "outputs": [],
   "source": [
    "# Predicting observation on our test set. \n",
    "y_pred = dtree.predict(X_test)"
   ]
  },
  {
   "cell_type": "code",
   "execution_count": 31,
   "metadata": {},
   "outputs": [
    {
     "name": "stdout",
     "output_type": "stream",
     "text": [
      "Accuracy is: 0.4378818737270876\n"
     ]
    }
   ],
   "source": [
    "# Calculating and printing the accuracy score between the y_test value and the y_predicted values. \n",
    "print(f\"Accuracy is: {accuracy_score(y_test,y_pred)}\")"
   ]
  },
  {
   "cell_type": "code",
   "execution_count": 32,
   "metadata": {},
   "outputs": [
    {
     "name": "stdout",
     "output_type": "stream",
     "text": [
      "Confusion matrix = \n",
      " [[  0   4   0   0   0   0   0   0]\n",
      " [  0  92   0   0   2   0   0   0]\n",
      " [  0  93   0   0  26   0   0   0]\n",
      " [  0  17   0   0 226   0   0   0]\n",
      " [  0   4   0   0 338   0   0   0]\n",
      " [  0   0   0   0 139   0   0   0]\n",
      " [  0   0   0   0  39   0   0   0]\n",
      " [  0   0   0   0   2   0   0   0]]\n",
      "precision score = 0.4378818737270876\n",
      "recall = 0.4378818737270876\n",
      "f1 score = 0.4378818737270876\n"
     ]
    }
   ],
   "source": [
    "# Importing the required libraries to calculate the metrics of the ML models we are calculating\n",
    "from sklearn.metrics import confusion_matrix, precision_score, recall_score, accuracy_score, f1_score\n",
    "\n",
    "# Decision tree classification\n",
    "print(f\"Confusion matrix = \\n {confusion_matrix(y_test, y_pred)}\")\n",
    "print(f\"precision score = {precision_score(y_test, y_pred, average='micro')}\")\n",
    "print(f\"recall = {recall_score(y_test, y_pred, average='micro')}\")\n",
    "print(f\"f1 score = {f1_score(y_test, y_pred, average='micro')}\")\n"
   ]
  },
  {
   "cell_type": "code",
   "execution_count": 33,
   "metadata": {},
   "outputs": [
    {
     "data": {
      "image/png": "[encoded data removed]",
      "text/plain": [
       "<IPython.core.display.Image object>"
      ]
     },
     "execution_count": 33,
     "metadata": {},
     "output_type": "execute_result"
    }
   ],
   "source": [
    "# Drawing the decision tree\n",
    "from sklearn.externals.six import StringIO  \n",
    "from IPython.display import Image  \n",
    "from sklearn.tree import export_graphviz\n",
    "import pydotplus\n",
    "\n",
    "dot_data = StringIO()\n",
    "\n",
    "export_graphviz(dtree, out_file=dot_data,  \n",
    "                filled=True, rounded=True,\n",
    "                special_characters=True)\n",
    "\n",
    "graph = pydotplus.graph_from_dot_data(dot_data.getvalue())  \n",
    "Image(graph.create_png())"
   ]
  },
  {
   "cell_type": "code",
   "execution_count": 18,
   "metadata": {},
   "outputs": [
    {
     "data": {
      "text/plain": [
       "'from sklearn.metrics import roc_curve, auc\\n\\nfalse_positive_rate, true_positive_rate, thresholds = roc_curve(y_test, y_pred)\\n\\nroc_auc = auc(false_positive_rate, true_positive_rate)'"
      ]
     },
     "execution_count": 18,
     "metadata": {},
     "output_type": "execute_result"
    }
   ],
   "source": [
    "\"\"\"from sklearn.metrics import roc_curve, auc\n",
    "\n",
    "false_positive_rate, true_positive_rate, thresholds = roc_curve(y_test, y_pred)\n",
    "\n",
    "roc_auc = auc(false_positive_rate, true_positive_rate)\"\"\""
   ]
  },
  {
   "cell_type": "code",
   "execution_count": 19,
   "metadata": {},
   "outputs": [],
   "source": [
    "max_depths = np.linspace(1, 20, 20, endpoint=True)"
   ]
  },
  {
   "cell_type": "code",
   "execution_count": 20,
   "metadata": {},
   "outputs": [
    {
     "name": "stdout",
     "output_type": "stream",
     "text": [
      "[ 1.  2.  3.  4.  5.  6.  7.  8.  9. 10. 11. 12. 13. 14. 15. 16. 17. 18.\n",
      " 19. 20.]\n"
     ]
    }
   ],
   "source": [
    "print(max_depths)"
   ]
  },
  {
   "cell_type": "code",
   "execution_count": 34,
   "metadata": {},
   "outputs": [],
   "source": [
    "train_results = []\n",
    "test_results = []\n",
    "for max_depth in max_depths:\n",
    "    dtree = DecisionTreeClassifier(criterion = \"gini\", random_state = 100, max_depth=max_depth, min_samples_leaf=5)\n",
    "    dtree.fit(X_train, y_train)\n",
    "    y_pred_train = dtree.predict(X_train)\n",
    "    accuracy_train = accuracy_score(y_train, y_pred_train)\n",
    "    train_results.append(accuracy_train)\n",
    "    y_pred = dtree.predict(X_test)\n",
    "    accuracy_test =accuracy_score(y_test,y_pred)\n",
    "    test_results.append(accuracy_test)\n",
    "    "
   ]
  },
  {
   "cell_type": "code",
   "execution_count": 38,
   "metadata": {},
   "outputs": [
    {
     "data": {
      "image/png": "[encoded data removed]",
      "text/plain": [
       "<Figure size 1440x720 with 1 Axes>"
      ]
     },
     "metadata": {
      "needs_background": "light"
     },
     "output_type": "display_data"
    }
   ],
   "source": [
    "from matplotlib.legend_handler import HandlerLine2D\n",
    "plt.figure(figsize=(20,10))\n",
    "line1, = plt.plot(max_depths, train_results, \"r\", label=\"Train Accuracy\")\n",
    "line2, = plt.plot(max_depths, test_results, \"b\", label=\"Test Accuracy\")\n",
    "plt.legend(handler_map={line1: HandlerLine2D(numpoints=2)})\n",
    "plt.ylabel('Accuracy')\n",
    "plt.xlabel('Maximum depth')\n",
    "plt.grid()\n",
    "plt.show()"
   ]
  },
  {
   "cell_type": "markdown",
   "metadata": {},
   "source": [
    "We see that our model overfits for large depth values. The tree perfectly predicts all of the train data, however, it fails to generalize the findings for new data"
   ]
  },
  {
   "cell_type": "markdown",
   "metadata": {},
   "source": [
    "#### Changing the value of min_samples_split hyperparameter"
   ]
  },
  {
   "cell_type": "code",
   "execution_count": 42,
   "metadata": {},
   "outputs": [],
   "source": [
    "min_samples_splits = np.linspace(0.1, 1.0, 10, endpoint=True)"
   ]
  },
  {
   "cell_type": "code",
   "execution_count": 45,
   "metadata": {},
   "outputs": [],
   "source": [
    "train_results = []\n",
    "test_results = []\n",
    "for min_sample in min_samples_splits:\n",
    "    dtree = DecisionTreeClassifier(min_samples_split=min_sample)\n",
    "    dtree.fit(X_train, y_train)\n",
    "    y_pred_train = dtree.predict(X_train)\n",
    "    accuracy_train = accuracy_score(y_train, y_pred_train)\n",
    "    train_results.append(accuracy_train)\n",
    "    y_pred = dtree.predict(X_test)\n",
    "    accuracy_test =accuracy_score(y_test,y_pred)\n",
    "    test_results.append(accuracy_test)\n",
    "    "
   ]
  },
  {
   "cell_type": "code",
   "execution_count": 46,
   "metadata": {},
   "outputs": [
    {
     "data": {
      "text/plain": [
       "[0.5537442689760571,\n",
       " 0.5387162506367804,\n",
       " 0.4926133469179827,\n",
       " 0.4793683138053999,\n",
       " 0.4521141110545084,\n",
       " 0.4521141110545084,\n",
       " 0.4521141110545084,\n",
       " 0.4521141110545084,\n",
       " 0.4521141110545084,\n",
       " 0.4521141110545084]"
      ]
     },
     "execution_count": 46,
     "metadata": {},
     "output_type": "execute_result"
    }
   ],
   "source": [
    "train_results"
   ]
  },
  {
   "cell_type": "code",
   "execution_count": 47,
   "metadata": {},
   "outputs": [
    {
     "data": {
      "text/plain": [
       "[0.5376782077393075,\n",
       " 0.544806517311609,\n",
       " 0.49490835030549896,\n",
       " 0.48370672097759676,\n",
       " 0.4378818737270876,\n",
       " 0.4378818737270876,\n",
       " 0.4378818737270876,\n",
       " 0.4378818737270876,\n",
       " 0.4378818737270876,\n",
       " 0.4378818737270876]"
      ]
     },
     "execution_count": 47,
     "metadata": {},
     "output_type": "execute_result"
    }
   ],
   "source": [
    "test_results"
   ]
  },
  {
   "cell_type": "code",
   "execution_count": 48,
   "metadata": {},
   "outputs": [
    {
     "data": {
      "image/png": "[encoded data removed]",
      "text/plain": [
       "<Figure size 1440x720 with 1 Axes>"
      ]
     },
     "metadata": {
      "needs_background": "light"
     },
     "output_type": "display_data"
    }
   ],
   "source": [
    "plt.figure(figsize=(20,10))\n",
    "line1, = plt.plot(min_samples_splits, train_results, \"r\", label=\"Train Accuracy\")\n",
    "line2, = plt.plot(min_samples_splits, test_results, \"b\", label=\"Test Accuracy\")\n",
    "plt.legend(handler_map={line1: HandlerLine2D(numpoints=2)})\n",
    "plt.ylabel('Accuracy')\n",
    "plt.xlabel('Minimum Sample Split')\n",
    "plt.grid()\n",
    "plt.show()"
   ]
  },
  {
   "cell_type": "markdown",
   "metadata": {},
   "source": [
    "## Ordinary Least Squares Feature Selection"
   ]
  },
  {
   "cell_type": "code",
   "execution_count": 49,
   "metadata": {},
   "outputs": [
    {
     "name": "stdout",
     "output_type": "stream",
     "text": [
      "                                 OLS Regression Results                                \n",
      "=======================================================================================\n",
      "Dep. Variable:                quality   R-squared (uncentered):                   0.991\n",
      "Model:                            OLS   Adj. R-squared (uncentered):              0.990\n",
      "Method:                 Least Squares   F-statistic:                          2.406e+04\n",
      "Date:                Fri, 16 Aug 2019   Prob (F-statistic):                        0.00\n",
      "Time:                        14:25:14   Log-Likelihood:                         -4317.1\n",
      "No. Observations:                3926   AIC:                                      8668.\n",
      "Df Residuals:                    3909   BIC:                                      8775.\n",
      "Df Model:                          17                                                  \n",
      "Covariance Type:            nonrobust                                                  \n",
      "========================================================================================\n",
      "                           coef    std err          t      P>|t|      [0.025      0.975]\n",
      "----------------------------------------------------------------------------------------\n",
      "sugar to flour ratio     0.0934      0.106      0.878      0.380      -0.115       0.302\n",
      "sugar index              0.0254      0.003      8.122      0.000       0.019       0.031\n",
      "bake temp               -0.0002   8.22e-05     -3.012      0.003      -0.000   -8.64e-05\n",
      "chill time               0.0085      0.001      7.829      0.000       0.006       0.011\n",
      "calories                -0.0021      0.000     -5.005      0.000      -0.003      -0.001\n",
      "pH                       0.1644      0.026      6.405      0.000       0.114       0.215\n",
      "grams baking soda        0.7854      0.106      7.445      0.000       0.579       0.992\n",
      "bake time                0.3418      0.012     28.226      0.000       0.318       0.365\n",
      "butter type              2.0446      0.059     34.794      0.000       1.929       2.160\n",
      "weight                   0.0065      0.006      1.057      0.291      -0.006       0.019\n",
      "crunch factor            0.0234      0.040      0.580      0.562      -0.056       0.102\n",
      "raisins                  0.2096      0.086      2.429      0.015       0.040       0.379\n",
      "chocolate                0.3340      0.083      4.030      0.000       0.172       0.497\n",
      "oats                     0.1188      0.031      3.797      0.000       0.057       0.180\n",
      "nuts                    -0.2351      0.037     -6.344      0.000      -0.308      -0.162\n",
      "peanut butter           -0.4118      0.112     -3.681      0.000      -0.631      -0.192\n",
      "No mixins               -0.5064      0.735     -0.689      0.491      -1.947       0.935\n",
      "==============================================================================\n",
      "Omnibus:                       56.419   Durbin-Watson:                   2.017\n",
      "Prob(Omnibus):                  0.000   Jarque-Bera (JB):              104.114\n",
      "Skew:                           0.026   Prob(JB):                     2.47e-23\n",
      "Kurtosis:                       3.796   Cond. No.                     3.63e+04\n",
      "==============================================================================\n",
      "\n",
      "Warnings:\n",
      "[1] Standard Errors assume that the covariance matrix of the errors is correctly specified.\n",
      "[2] The condition number is large, 3.63e+04. This might indicate that there are\n",
      "strong multicollinearity or other numerical problems.\n"
     ]
    }
   ],
   "source": [
    "# Importing the required library to implement the hypotheses testing. \n",
    "import statsmodels.api as sm\n",
    "\n",
    "# Creating the model using statsmodel and passing as a parameters the y_train_column and the X_train_matrix \n",
    "mod = sm.OLS(y_train, X_train)\n",
    "\n",
    "# Fitting the model \n",
    "res = mod.fit()\n",
    "\n",
    "# Printing the results summary \n",
    "print(res.summary())"
   ]
  },
  {
   "cell_type": "markdown",
   "metadata": {},
   "source": [
    "We can see that the F-Statistic is quite high, and by calculating the probability we obtain that it is 0.00 and smaller than the alpha value = 0.05. With this we can reject the null hypotheses and at least one coefficient will be different from 0 in a Linear Regression Model. \n",
    "\n",
    "Furthermore, we can see that the R2 score is very high (0.99), meaning that a Linear Regression can be an appropiate model for calculating the cookies' quality. \n",
    "\n",
    "However, we have right now a model with 16 features and it can be quite difficult to understand its performance. Also, we can see that some of the variables have a p-value greater than alpha, and therefore they can be removed from the model. \n",
    "\n",
    "`Iteration 2`: Removing crunch factor with a p-value = 0.562"
   ]
  },
  {
   "cell_type": "code",
   "execution_count": 56,
   "metadata": {},
   "outputs": [],
   "source": [
    "X_train2 = X_train.drop(['crunch factor'], axis=1)"
   ]
  },
  {
   "cell_type": "code",
   "execution_count": 57,
   "metadata": {},
   "outputs": [
    {
     "name": "stdout",
     "output_type": "stream",
     "text": [
      "                                 OLS Regression Results                                \n",
      "=======================================================================================\n",
      "Dep. Variable:                quality   R-squared (uncentered):                   0.991\n",
      "Model:                            OLS   Adj. R-squared (uncentered):              0.990\n",
      "Method:                 Least Squares   F-statistic:                          2.557e+04\n",
      "Date:                Fri, 16 Aug 2019   Prob (F-statistic):                        0.00\n",
      "Time:                        14:40:13   Log-Likelihood:                         -4317.3\n",
      "No. Observations:                3926   AIC:                                      8667.\n",
      "Df Residuals:                    3910   BIC:                                      8767.\n",
      "Df Model:                          16                                                  \n",
      "Covariance Type:            nonrobust                                                  \n",
      "========================================================================================\n",
      "                           coef    std err          t      P>|t|      [0.025      0.975]\n",
      "----------------------------------------------------------------------------------------\n",
      "sugar to flour ratio     0.0931      0.106      0.874      0.382      -0.116       0.302\n",
      "sugar index              0.0254      0.003      8.123      0.000       0.019       0.031\n",
      "bake temp               -0.0002   8.22e-05     -3.005      0.003      -0.000   -8.59e-05\n",
      "chill time               0.0085      0.001      7.841      0.000       0.006       0.011\n",
      "calories                -0.0021      0.000     -5.015      0.000      -0.003      -0.001\n",
      "pH                       0.1683      0.025      6.798      0.000       0.120       0.217\n",
      "grams baking soda        0.7860      0.105      7.451      0.000       0.579       0.993\n",
      "bake time                0.3418      0.012     28.232      0.000       0.318       0.366\n",
      "butter type              2.0458      0.059     34.838      0.000       1.931       2.161\n",
      "weight                   0.0066      0.006      1.076      0.282      -0.005       0.019\n",
      "raisins                  0.2093      0.086      2.426      0.015       0.040       0.378\n",
      "chocolate                0.3336      0.083      4.025      0.000       0.171       0.496\n",
      "oats                     0.1186      0.031      3.790      0.000       0.057       0.180\n",
      "nuts                    -0.2354      0.037     -6.352      0.000      -0.308      -0.163\n",
      "peanut butter           -0.4130      0.112     -3.693      0.000      -0.632      -0.194\n",
      "No mixins               -0.4987      0.735     -0.679      0.497      -1.939       0.942\n",
      "==============================================================================\n",
      "Omnibus:                       56.638   Durbin-Watson:                   2.017\n",
      "Prob(Omnibus):                  0.000   Jarque-Bera (JB):              104.651\n",
      "Skew:                           0.026   Prob(JB):                     1.88e-23\n",
      "Kurtosis:                       3.798   Cond. No.                     3.63e+04\n",
      "==============================================================================\n",
      "\n",
      "Warnings:\n",
      "[1] Standard Errors assume that the covariance matrix of the errors is correctly specified.\n",
      "[2] The condition number is large, 3.63e+04. This might indicate that there are\n",
      "strong multicollinearity or other numerical problems.\n"
     ]
    }
   ],
   "source": [
    "# Importing the required library to implement the hypotheses testing. \n",
    "import statsmodels.api as sm\n",
    "\n",
    "# Creating the model using statsmodel and passing as a parameters the y_train_column and the X_train_matrix \n",
    "mod = sm.OLS(y_train, X_train2)\n",
    "\n",
    "# Fitting the model \n",
    "res = mod.fit()\n",
    "\n",
    "# Printing the results summary \n",
    "print(res.summary())"
   ]
  },
  {
   "cell_type": "markdown",
   "metadata": {},
   "source": [
    "`Iteration 3`: Removing 'no mixins' columns"
   ]
  },
  {
   "cell_type": "code",
   "execution_count": 58,
   "metadata": {},
   "outputs": [
    {
     "name": "stdout",
     "output_type": "stream",
     "text": [
      "                                 OLS Regression Results                                \n",
      "=======================================================================================\n",
      "Dep. Variable:                quality   R-squared (uncentered):                   0.991\n",
      "Model:                            OLS   Adj. R-squared (uncentered):              0.990\n",
      "Method:                 Least Squares   F-statistic:                          2.728e+04\n",
      "Date:                Fri, 16 Aug 2019   Prob (F-statistic):                        0.00\n",
      "Time:                        14:40:20   Log-Likelihood:                         -4317.5\n",
      "No. Observations:                3926   AIC:                                      8665.\n",
      "Df Residuals:                    3911   BIC:                                      8759.\n",
      "Df Model:                          15                                                  \n",
      "Covariance Type:            nonrobust                                                  \n",
      "========================================================================================\n",
      "                           coef    std err          t      P>|t|      [0.025      0.975]\n",
      "----------------------------------------------------------------------------------------\n",
      "sugar to flour ratio     0.0957      0.106      0.899      0.368      -0.113       0.304\n",
      "sugar index              0.0254      0.003      8.122      0.000       0.019       0.031\n",
      "bake temp               -0.0002   8.22e-05     -3.012      0.003      -0.000   -8.64e-05\n",
      "chill time               0.0085      0.001      7.850      0.000       0.006       0.011\n",
      "calories                -0.0021      0.000     -5.015      0.000      -0.003      -0.001\n",
      "pH                       0.1674      0.025      6.772      0.000       0.119       0.216\n",
      "grams baking soda        0.7873      0.105      7.465      0.000       0.581       0.994\n",
      "bake time                0.3418      0.012     28.233      0.000       0.318       0.366\n",
      "butter type              2.0463      0.059     34.854      0.000       1.931       2.161\n",
      "weight                   0.0066      0.006      1.061      0.289      -0.006       0.019\n",
      "raisins                  0.2158      0.086      2.518      0.012       0.048       0.384\n",
      "chocolate                0.3395      0.082      4.121      0.000       0.178       0.501\n",
      "oats                     0.1195      0.031      3.825      0.000       0.058       0.181\n",
      "nuts                    -0.2339      0.037     -6.323      0.000      -0.306      -0.161\n",
      "peanut butter           -0.4097      0.112     -3.667      0.000      -0.629      -0.191\n",
      "==============================================================================\n",
      "Omnibus:                       56.565   Durbin-Watson:                   2.017\n",
      "Prob(Omnibus):                  0.000   Jarque-Bera (JB):              104.445\n",
      "Skew:                           0.026   Prob(JB):                     2.09e-23\n",
      "Kurtosis:                       3.797   Cond. No.                     6.13e+03\n",
      "==============================================================================\n",
      "\n",
      "Warnings:\n",
      "[1] Standard Errors assume that the covariance matrix of the errors is correctly specified.\n",
      "[2] The condition number is large, 6.13e+03. This might indicate that there are\n",
      "strong multicollinearity or other numerical problems.\n"
     ]
    }
   ],
   "source": [
    "X_train2 = X_train2.drop(['No mixins'], axis=1)\n",
    "\n",
    "# Importing the required library to implement the hypotheses testing. \n",
    "import statsmodels.api as sm\n",
    "\n",
    "# Creating the model using statsmodel and passing as a parameters the y_train_column and the X_train_matrix \n",
    "mod = sm.OLS(y_train, X_train2)\n",
    "\n",
    "# Fitting the model \n",
    "res = mod.fit()\n",
    "\n",
    "# Printing the results summary \n",
    "print(res.summary())"
   ]
  },
  {
   "cell_type": "markdown",
   "metadata": {},
   "source": [
    "`Iteration 3`: Removing weight"
   ]
  },
  {
   "cell_type": "code",
   "execution_count": 59,
   "metadata": {},
   "outputs": [
    {
     "name": "stdout",
     "output_type": "stream",
     "text": [
      "                                 OLS Regression Results                                \n",
      "=======================================================================================\n",
      "Dep. Variable:                quality   R-squared (uncentered):                   0.991\n",
      "Model:                            OLS   Adj. R-squared (uncentered):              0.990\n",
      "Method:                 Least Squares   F-statistic:                          2.923e+04\n",
      "Date:                Fri, 16 Aug 2019   Prob (F-statistic):                        0.00\n",
      "Time:                        14:41:47   Log-Likelihood:                         -4318.1\n",
      "No. Observations:                3926   AIC:                                      8664.\n",
      "Df Residuals:                    3912   BIC:                                      8752.\n",
      "Df Model:                          14                                                  \n",
      "Covariance Type:            nonrobust                                                  \n",
      "========================================================================================\n",
      "                           coef    std err          t      P>|t|      [0.025      0.975]\n",
      "----------------------------------------------------------------------------------------\n",
      "sugar to flour ratio     0.1427      0.097      1.475      0.140      -0.047       0.332\n",
      "sugar index              0.0255      0.003      8.193      0.000       0.019       0.032\n",
      "bake temp               -0.0002   8.14e-05     -2.891      0.004      -0.000   -7.57e-05\n",
      "chill time               0.0084      0.001      7.782      0.000       0.006       0.011\n",
      "calories                -0.0021      0.000     -5.006      0.000      -0.003      -0.001\n",
      "pH                       0.1765      0.023      7.608      0.000       0.131       0.222\n",
      "grams baking soda        0.7909      0.105      7.503      0.000       0.584       0.998\n",
      "bake time                0.3419      0.012     28.243      0.000       0.318       0.366\n",
      "butter type              2.0352      0.058     35.231      0.000       1.922       2.148\n",
      "raisins                  0.2204      0.086      2.574      0.010       0.053       0.388\n",
      "chocolate                0.3444      0.082      4.187      0.000       0.183       0.506\n",
      "oats                     0.1199      0.031      3.836      0.000       0.059       0.181\n",
      "nuts                    -0.2322      0.037     -6.282      0.000      -0.305      -0.160\n",
      "peanut butter           -0.4081      0.112     -3.652      0.000      -0.627      -0.189\n",
      "==============================================================================\n",
      "Omnibus:                       57.114   Durbin-Watson:                   2.018\n",
      "Prob(Omnibus):                  0.000   Jarque-Bera (JB):              105.742\n",
      "Skew:                           0.028   Prob(JB):                     1.09e-23\n",
      "Kurtosis:                       3.802   Cond. No.                     6.12e+03\n",
      "==============================================================================\n",
      "\n",
      "Warnings:\n",
      "[1] Standard Errors assume that the covariance matrix of the errors is correctly specified.\n",
      "[2] The condition number is large, 6.12e+03. This might indicate that there are\n",
      "strong multicollinearity or other numerical problems.\n"
     ]
    }
   ],
   "source": [
    "X_train2 = X_train2.drop(['weight'], axis=1)\n",
    "\n",
    "# Importing the required library to implement the hypotheses testing. \n",
    "import statsmodels.api as sm\n",
    "\n",
    "# Creating the model using statsmodel and passing as a parameters the y_train_column and the X_train_matrix \n",
    "mod = sm.OLS(y_train, X_train2)\n",
    "\n",
    "# Fitting the model \n",
    "res = mod.fit()\n",
    "\n",
    "# Printing the results summary \n",
    "print(res.summary())"
   ]
  },
  {
   "cell_type": "markdown",
   "metadata": {},
   "source": [
    "`Iteration 4`: Removing sugar to flour ratio"
   ]
  },
  {
   "cell_type": "code",
   "execution_count": 60,
   "metadata": {},
   "outputs": [
    {
     "name": "stdout",
     "output_type": "stream",
     "text": [
      "                                 OLS Regression Results                                \n",
      "=======================================================================================\n",
      "Dep. Variable:                quality   R-squared (uncentered):                   0.991\n",
      "Model:                            OLS   Adj. R-squared (uncentered):              0.990\n",
      "Method:                 Least Squares   F-statistic:                          3.147e+04\n",
      "Date:                Fri, 16 Aug 2019   Prob (F-statistic):                        0.00\n",
      "Time:                        14:42:58   Log-Likelihood:                         -4319.2\n",
      "No. Observations:                3926   AIC:                                      8664.\n",
      "Df Residuals:                    3913   BIC:                                      8746.\n",
      "Df Model:                          13                                                  \n",
      "Covariance Type:            nonrobust                                                  \n",
      "=====================================================================================\n",
      "                        coef    std err          t      P>|t|      [0.025      0.975]\n",
      "-------------------------------------------------------------------------------------\n",
      "sugar index           0.0259      0.003      8.315      0.000       0.020       0.032\n",
      "bake temp            -0.0002   8.07e-05     -2.723      0.006      -0.000   -6.15e-05\n",
      "chill time            0.0083      0.001      7.717      0.000       0.006       0.010\n",
      "calories             -0.0020      0.000     -4.875      0.000      -0.003      -0.001\n",
      "pH                    0.1749      0.023      7.547      0.000       0.129       0.220\n",
      "grams baking soda     0.8086      0.105      7.720      0.000       0.603       1.014\n",
      "bake time             0.3440      0.012     28.606      0.000       0.320       0.368\n",
      "butter type           2.0370      0.058     35.263      0.000       1.924       2.150\n",
      "raisins               0.2314      0.085      2.713      0.007       0.064       0.399\n",
      "chocolate             0.3608      0.082      4.425      0.000       0.201       0.521\n",
      "oats                  0.1164      0.031      3.735      0.000       0.055       0.178\n",
      "nuts                 -0.2473      0.036     -6.964      0.000      -0.317      -0.178\n",
      "peanut butter        -0.4351      0.110     -3.947      0.000      -0.651      -0.219\n",
      "==============================================================================\n",
      "Omnibus:                       56.120   Durbin-Watson:                   2.018\n",
      "Prob(Omnibus):                  0.000   Jarque-Bera (JB):              103.176\n",
      "Skew:                           0.029   Prob(JB):                     3.94e-23\n",
      "Kurtosis:                       3.792   Cond. No.                     6.12e+03\n",
      "==============================================================================\n",
      "\n",
      "Warnings:\n",
      "[1] Standard Errors assume that the covariance matrix of the errors is correctly specified.\n",
      "[2] The condition number is large, 6.12e+03. This might indicate that there are\n",
      "strong multicollinearity or other numerical problems.\n"
     ]
    }
   ],
   "source": [
    "X_train2 = X_train2.drop(['sugar to flour ratio'], axis=1)\n",
    "\n",
    "# Importing the required library to implement the hypotheses testing. \n",
    "import statsmodels.api as sm\n",
    "\n",
    "# Creating the model using statsmodel and passing as a parameters the y_train_column and the X_train_matrix \n",
    "mod = sm.OLS(y_train, X_train2)\n",
    "\n",
    "# Fitting the model \n",
    "res = mod.fit()\n",
    "\n",
    "# Printing the results summary \n",
    "print(res.summary())"
   ]
  },
  {
   "cell_type": "markdown",
   "metadata": {},
   "source": [
    "With this final dataset, we try to perform a linear regression model to predict the quality of the cookie, because we see the R2 score is still quite high in our model. "
   ]
  },
  {
   "cell_type": "code",
   "execution_count": 62,
   "metadata": {},
   "outputs": [],
   "source": [
    "# Removing columns that are no longer in our model \n",
    "\n",
    "X_test2 = X_test.drop(['crunch factor', 'No mixins', 'weight', 'sugar to flour ratio'], axis=1)"
   ]
  },
  {
   "cell_type": "code",
   "execution_count": null,
   "metadata": {},
   "outputs": [],
   "source": [
    "# Importing the r2_score metric to evaluate the performance of the LinearRegression Model \n",
    "from sklearn.metrics import r2_score\n",
    "# Importing all the required libraries to create a Linear Regression Model from Sklearn \n",
    "from sklearn.linear_model import LinearRegression\n",
    "\n",
    "auto_model09 = LinearRegression()\n",
    "\n",
    "auto_model09.fit(X_train09, y_train09)"
   ]
  }
 ],
 "metadata": {
  "kernelspec": {
   "display_name": "Python 3",
   "language": "python",
   "name": "python3"
  },
  "language_info": {
   "codemirror_mode": {
    "name": "ipython",
    "version": 3
   },
   "file_extension": ".py",
   "mimetype": "text/x-python",
   "name": "python",
   "nbconvert_exporter": "python",
   "pygments_lexer": "ipython3",
   "version": "3.7.3"
  }
 },
 "nbformat": 4,
 "nbformat_minor": 2
}
